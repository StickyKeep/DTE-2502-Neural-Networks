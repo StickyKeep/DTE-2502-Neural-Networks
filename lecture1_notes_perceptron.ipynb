{
 "cells": [
  {
   "cell_type": "markdown",
   "metadata": {},
   "source": [
    "**ELI5:**\n",
    "\n",
    "Think of this like tuning a musical instrument. The \"weight\" $w_{ij}$ is how the instrument is currently tuned. The equation is telling you how to adjust the tuning to get it just right. If you pluck a string and it doesn't sound right (the note you play, $a_j$, doesn't match the note you want, $y_j$), you need to tighten or loosen the string (change the weight). The amount you change it by is guided by a number called the \"learning rate\" $\\mu$, which is like instructions on how much to turn the tuning peg each time. The input $x_i$ helps you understand how important that string is to the sound you're trying to make.\n",
    "\n",
    "**ELI a New Computer Science Student:**\n",
    "\n",
    "In a neural network, the weight $w_{ij}$ is a value that determines the strength of the connection between two neurons. The equation for updating the weight is:\n",
    "\n",
    "$$ w_{ij} \\leftarrow w_{ij} - \\mu \\cdot (a_j - y_j) \\cdot x_i $$\n",
    "\n",
    "Here, $y_j$ is the target value, the value you want the network to produce, and $a_j$ is the actual output value of the neuron. The difference $a_j - y_j$ is called the error. This error is multiplied by the learning rate $\\mu$, which controls how quickly the network learns. A higher learning rate may cause the network to learn faster but might overshoot the optimal solution, while a lower learning rate may lead to more precise learning but could be slower. The term $x_i$ represents the input value associated with the weight, and the whole equation tells you how to adjust the weight to get the network's output closer to the desired target value.\n"
   ]
  },
  {
   "cell_type": "markdown",
   "metadata": {},
   "source": []
  },
  {
   "cell_type": "markdown",
   "metadata": {},
   "source": [
    "# ELI5 (Explain Like I'm 5):\n",
    "\n",
    "Think of this like tuning a musical instrument. The \"weight\" $w_{ij}$ is how the instrument is currently tuned. The equation is telling you how to adjust the tuning to get it just right. If you pluck a string and it doesn't sound right (the note you play, $a_j$, doesn't match the note you want, $y_j$), you need to tighten or loosen the string (change the weight). The amount you change it by is guided by a number called the \"learning rate\" $\\mu$, which is like instructions on how much to turn the tuning peg each time. The input $x_i$ helps you understand how important that string is to the sound you're trying to make.\n",
    "\n",
    "# ELI a New Computer Science Student:\n",
    "\n",
    "In a neural network, the weight $w_{ij}$ is a value that determines the strength of the connection between two neurons. The equation for updating the weight is:\n",
    "\n",
    "$ w_{ij} \\leftarrow w_{ij} - \\mu \\cdot (a_j - y_j) \\cdot x_i $\n",
    "\n",
    "Here, $y_j$ is the target value, the value you want the network to produce, and $a_j$ is the actual output value of the neuron. The difference $a_j - y_j$ is called the error. This error is multiplied by the learning rate $\\mu$, which controls how quickly the network learns. A higher learning rate may cause the network to learn faster but might overshoot the optimal solution, while a lower learning rate may lead to more precise learning but could be slower. The term $x_i$ represents the input value associated with the weight, and the whole equation tells you how to adjust the weight to get the network's output closer to the desired target value.\n",
    "\n"
   ]
  },
  {
   "cell_type": "markdown",
   "metadata": {},
   "source": [
    "# Some notation reminders\n",
    "\n",
    "## Notation Reminder for Machine Learning Class\n",
    "\n",
    "- $ x^{l} $: Number of features.\n",
    "- $ (x_{i}, y_{i}) $: These represent the features and the label for the \\( i \\)-th data point.\n",
    "- $ \\langle a, b \\rangle $: This denotes the dot product of vectors \\( a \\) and \\( b \\).\n",
    "\n",
    "### Additional Notations:\n",
    "\n",
    "- $ \\alpha $: Learning rate in gradient-based algorithms.\n",
    "- $ \\theta $: Parameters in a machine learning model.\n",
    "- $ J(\\theta) $: Cost or Loss function.\n",
    "- $ \\nabla $: Gradient symbol, often used to find the minimum of a function.\n",
    "- $ h(x) $: Hypothesis function that the model uses to make predictions.\n",
    "\n",
    "- Hat symbol $ \\hat{y} $ is often used to denote an estimated or predicted value. For example:\n",
    "\n",
    "     If $ y $ is the true label or output, then $ \\hat{y} $ would represent the predicted label or output given by the model.\n",
    "\n",
    "\n"
   ]
  },
  {
   "cell_type": "markdown",
   "metadata": {},
   "source": [
    "## Kernel Tricks Explained Like I'm 5\n",
    "\n",
    "Imagine you have a group of red and blue marbles on a table, and you want to separate them using only a straight stick. But the marbles are mixed together in such a way that you can't separate them using just a straight stick. What do you do?\n",
    "\n",
    "Think of lifting these marbles up into the air, like tossing them up onto a sheet hanging from the ceiling. Now, you can easily separate them using a stick! When you bring them back down to the table, the stick's position would look like a complex curve, but you've managed to separate the marbles!\n",
    "\n",
    "### In More Technical Terms\n",
    "\n",
    "In machine learning, this \"lifting\" is like transforming data into a higher-dimensional space. The trick is that you don't actually have to do the full computation in this higher space. Instead, you can use a function, called a \"kernel,\" to calculate how \"similar\" two points are in this higher-dimensional space without actually going there. \n",
    "\n",
    "Mathematically, this is like replacing the dot product $ \\langle x, z \\rangle $ in the original space with $ \\kappa(x, z) $ in the higher-dimensional space:\n",
    "\n",
    "$$\n",
    "\\kappa(x, z) = \\phi(x) \\cdot \\phi(z)\n",
    "$$\n",
    "\n",
    "Here, $ \\phi(x) $ and $ \\phi(z) $ are the transformations of the original vectors $ x $ and $ z $ to the higher-dimensional space. \n",
    "\n",
    "This trick allows you to use linear algorithms, like Support Vector Machines (SVMs), to solve problems that are not linearly separable in the original space.\n",
    "\n"
   ]
  }
 ],
 "metadata": {
  "language_info": {
   "name": "python"
  },
  "orig_nbformat": 4
 },
 "nbformat": 4,
 "nbformat_minor": 2
}
